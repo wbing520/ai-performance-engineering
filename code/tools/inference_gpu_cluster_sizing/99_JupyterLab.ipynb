{
 "cells": [
  {
   "cell_type": "markdown",
   "metadata": {
    "id": "a3qdHasbbFDU"
   },
   "source": [
    "<br>\n",
    "\n",
    "# <font color=\"#76b900\">**Notebook 99:** JupyterLab</font>\n",
    "\n",
    "<br>\n",
    "\n",
    "We use [JupyterLab](https://jupyterlab.readthedocs.io/en/stable/) to manage our environment for this hands-on lab. The [JupyterLab Interface](https://jupyterlab.readthedocs.io/en/stable/user/interface.html) is a dashboard that provides access to interactive iPython notebooks, as well as the folder structure of our environment and a terminal window into the Ubuntu operating system. The view includes a **menu bar** at the top, a **file browser** in the **left sidebar**, and a **main work area** initially open to the \"Launcher\" page.\n",
    "\n",
    "<br>\n",
    "\n",
    "> <img src=\"https://dli-lms.s3.amazonaws.com/assets/s-fx-15-v1/imgs/jl_launcher.png\" width=1000px/>\n",
    "\n",
    "<br>\n",
    "\n",
    "### **Some Notes:**\n",
    "\n",
    "- You can navigate the file browser just like any other file explorer. A double click on any of the items will open a new tab with its content.\n",
    "- The main work area includes tabbed views of open files that can be closed, moved, and edited as needed.\n",
    "- The notebooks, including this one, contain a series of content and code **cells**. To execute code in a code cell, press `Shift+Enter` or the \"Run\" button in the menu bar above while highlighting a cell. Sometimes, a content cell will get switched to editing mode, in which case you can press `Shift+Enter` to change it back to a readable form.\n",
    "\n",
    "**Try executing the simple print statement in the cell below.**"
   ]
  },
  {
   "cell_type": "code",
   "execution_count": null,
   "metadata": {
    "id": "FapSM5sUbFDV"
   },
   "outputs": [],
   "source": [
    "# Highlight this cell and click [Shift+Enter] to execute\n",
    "print('This is just a simple print statement')"
   ]
  }
 ],
 "metadata": {
  "colab": {
   "provenance": []
  },
  "kernelspec": {
   "display_name": "Python 3 (ipykernel)",
   "language": "python",
   "name": "python3"
  },
  "language_info": {
   "codemirror_mode": {
    "name": "ipython",
    "version": 3
   },
   "file_extension": ".py",
   "mimetype": "text/x-python",
   "name": "python",
   "nbconvert_exporter": "python",
   "pygments_lexer": "ipython3",
   "version": "3.10.12"
  }
 },
 "nbformat": 4,
 "nbformat_minor": 4
}
